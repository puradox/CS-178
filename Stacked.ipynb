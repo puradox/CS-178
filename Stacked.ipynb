{
 "cells": [
  {
   "cell_type": "code",
   "execution_count": 1,
   "metadata": {},
   "outputs": [],
   "source": [
    "import numpy as np\n",
    "import matplotlib.pyplot as plt\n",
    "import xgboost as xgb\n",
    "\n",
    "from datetime import datetime\n",
    "from sklearn.model_selection import train_test_split\n",
    "from sklearn.preprocessing import StandardScaler\n",
    "from sklearn.model_selection import GridSearchCV\n",
    "from sklearn.neural_network import MLPRegressor\n",
    "from sklearn.metrics import roc_auc_score\n",
    "from sklearn.model_selection import cross_val_score"
   ]
  },
  {
   "cell_type": "code",
   "execution_count": 2,
   "metadata": {},
   "outputs": [],
   "source": [
    "X = np.genfromtxt('data/X_train.txt', delimiter=None)\n",
    "Y = np.genfromtxt('data/Y_train.txt', delimiter=None)\n",
    "X_submit = np.genfromtxt('data/X_test.txt', delimiter=None)\n",
    "\n",
    "# Shuffle rows of X and Y in the same way\n",
    "s = np.arange(X.shape[0])\n",
    "np.random.shuffle(s)\n",
    "X = X[s]\n",
    "Y = Y[s]\n",
    "\n",
    "# Split 80/20 into training/test data\n",
    "X_train, X_test, Y_train, Y_test = train_test_split(X, Y, test_size=0.2)\n",
    "\n",
    "X = X_train # CHANGE BACK\n",
    "Y = Y_train # CHANGE BACK\n",
    "X_submit = X_test # CHANGE BACK"
   ]
  },
  {
   "cell_type": "code",
   "execution_count": 3,
   "metadata": {},
   "outputs": [],
   "source": [
    "def timer(start_time=None):\n",
    "    if not start_time:\n",
    "        start_time = datetime.now()\n",
    "        return start_time\n",
    "    elif start_time:\n",
    "        thour, temp_sec = divmod((datetime.now() - start_time).total_seconds(), 3600)\n",
    "        tmin, tsec = divmod(temp_sec, 60)\n",
    "        print('\\nTime taken: %i hours %i minutes and %s seconds.' % (thour, tmin, round(tsec, 2)))\n",
    "        \n",
    "def test(clf):\n",
    "    if not do_tests:\n",
    "        return\n",
    "    clf.fit(X_train, Y_train)\n",
    "    predictions = clf.predict_proba(X_test)\n",
    "    score = roc_auc_score(Y_test, predictions[:,1])\n",
    "    print(score)"
   ]
  },
  {
   "cell_type": "code",
   "execution_count": 4,
   "metadata": {
    "scrolled": false
   },
   "outputs": [
    {
     "name": "stdout",
     "output_type": "stream",
     "text": [
      "\n",
      "Time taken: 0 hours 0 minutes and 20.55 seconds.\n"
     ]
    }
   ],
   "source": [
    "from sklearn.ensemble import RandomForestClassifier\n",
    "\n",
    "start_time = timer()\n",
    "rf = RandomForestClassifier(n_estimators=120, max_depth=24, min_samples_leaf=5, n_jobs=-1)\n",
    "\n",
    "rf.fit(X, Y)\n",
    "rf_train = rf.predict_proba(X)\n",
    "rf_test = rf.predict_proba(X_submit)\n",
    "timer(start_time)"
   ]
  },
  {
   "cell_type": "code",
   "execution_count": 5,
   "metadata": {},
   "outputs": [
    {
     "name": "stdout",
     "output_type": "stream",
     "text": [
      "\n",
      "Time taken: 0 hours 0 minutes and 7.43 seconds.\n"
     ]
    }
   ],
   "source": [
    "from sklearn.ensemble import ExtraTreesClassifier\n",
    "\n",
    "start_time = timer()\n",
    "et = ExtraTreesClassifier(n_estimators=68, max_depth=39, min_samples_leaf=3, n_jobs=-1)\n",
    "\n",
    "et.fit(X, Y)\n",
    "et_train = et.predict_proba(X)\n",
    "et_test = et.predict_proba(X_submit)\n",
    "timer(start_time)"
   ]
  },
  {
   "cell_type": "code",
   "execution_count": 6,
   "metadata": {},
   "outputs": [
    {
     "name": "stdout",
     "output_type": "stream",
     "text": [
      "\n",
      "Time taken: 0 hours 3 minutes and 40.81 seconds.\n"
     ]
    }
   ],
   "source": [
    "from sklearn.ensemble import AdaBoostClassifier\n",
    "from sklearn.tree import DecisionTreeClassifier\n",
    "\n",
    "start_time = timer()\n",
    "base_clf = DecisionTreeClassifier(max_depth=9)\n",
    "ada = AdaBoostClassifier(base_estimator=base_clf, n_estimators=100)\n",
    "\n",
    "ada.fit(X, Y)\n",
    "ada_train = ada.predict_proba(X)\n",
    "ada_test = ada.predict_proba(X_submit)\n",
    "timer(start_time)"
   ]
  },
  {
   "cell_type": "code",
   "execution_count": 7,
   "metadata": {},
   "outputs": [
    {
     "name": "stdout",
     "output_type": "stream",
     "text": [
      "\n",
      "Time taken: 0 hours 2 minutes and 52.26 seconds.\n"
     ]
    }
   ],
   "source": [
    "from lightgbm import LGBMClassifier\n",
    "\n",
    "start_time = timer()\n",
    "\n",
    "gb = LGBMClassifier(\n",
    "    max_depth=22,\n",
    "    num_leaves=2514,\n",
    "    scale_pos_weight=1.6,\n",
    "    learning_rate=0.02,\n",
    "    n_estimators=100,\n",
    "    n_jobs=4,\n",
    "    device='gpu',\n",
    "    random_state=42,\n",
    ")\n",
    "\n",
    "gb.fit(X, Y)\n",
    "gb_train = gb.predict_proba(X)\n",
    "gb_test = gb.predict_proba(X_submit)\n",
    "\n",
    "timer(start_time)"
   ]
  },
  {
   "cell_type": "code",
   "execution_count": 8,
   "metadata": {},
   "outputs": [
    {
     "name": "stdout",
     "output_type": "stream",
     "text": [
      "\n",
      "Time taken: 0 hours 0 minutes and 0.89 seconds.\n"
     ]
    }
   ],
   "source": [
    "from sklearn.model_selection import GridSearchCV\n",
    "\n",
    "X_train = np.concatenate((et_train, rf_train, ada_train, gb_train), axis=1)\n",
    "x_test = np.concatenate((et_test, rf_test, ada_test, gb_test), axis=1)\n",
    "\n",
    "start_time = timer()\n",
    "stack = xgb.XGBClassifier(\n",
    "    n_estimators=8,\n",
    "    max_depth=3,                   \n",
    "    subsample=0.197,\n",
    "    colsample_bytree=0.4,\n",
    "    objective='binary:logistic',\n",
    "    nthread=1,\n",
    "    scale_pos_weight=1.336,\n",
    ")\n",
    "\n",
    "stack.fit(X_train, Y)\n",
    "timer(start_time)"
   ]
  },
  {
   "cell_type": "code",
   "execution_count": 9,
   "metadata": {},
   "outputs": [
    {
     "name": "stdout",
     "output_type": "stream",
     "text": [
      "0.7765162216030855\n"
     ]
    }
   ],
   "source": [
    "predictions = stack.predict_proba(x_test)\n",
    "score = roc_auc_score(Y_test, predictions[:,1])\n",
    "print(score)\n",
    "    \n",
    "Y_submit = np.vstack((np.arange(x_test.shape[0]), predictions[:,1])).T\n",
    "np.savetxt('Y_submit.txt', Y_submit, '%d, %.2f', header='ID,Prob1',comments='',delimiter=',')"
   ]
  }
 ],
 "metadata": {
  "kernelspec": {
   "display_name": "Python 3",
   "language": "python",
   "name": "python3"
  },
  "language_info": {
   "codemirror_mode": {
    "name": "ipython",
    "version": 3
   },
   "file_extension": ".py",
   "mimetype": "text/x-python",
   "name": "python",
   "nbconvert_exporter": "python",
   "pygments_lexer": "ipython3",
   "version": "3.6.4"
  }
 },
 "nbformat": 4,
 "nbformat_minor": 2
}
