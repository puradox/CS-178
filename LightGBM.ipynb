{
 "cells": [
  {
   "cell_type": "code",
   "execution_count": 2,
   "metadata": {},
   "outputs": [],
   "source": [
    "import numpy as np\n",
    "import matplotlib.pyplot as plt\n",
    "\n",
    "from datetime import datetime\n",
    "from sklearn.preprocessing import StandardScaler\n",
    "from sklearn.model_selection import GridSearchCV\n",
    "from lightgbm import LGBMClassifier"
   ]
  },
  {
   "cell_type": "code",
   "execution_count": 3,
   "metadata": {},
   "outputs": [
    {
     "name": "stdout",
     "output_type": "stream",
     "text": [
      "(200000, 14)\n"
     ]
    }
   ],
   "source": [
    "X = np.genfromtxt('data/X_train.txt', delimiter=None)\n",
    "Y = np.genfromtxt('data/Y_train.txt', delimiter=None)\n",
    "X_submit = np.genfromtxt('data/X_test.txt', delimiter=None)\n",
    "\n",
    "print(X.shape)"
   ]
  },
  {
   "cell_type": "code",
   "execution_count": 4,
   "metadata": {},
   "outputs": [],
   "source": [
    "# Scale the data, fitting only on training data\n",
    "scaler = StandardScaler().fit(X)\n",
    "X_scaled = scaler.transform(X)\n",
    "X_submit_scaled = scaler.transform(X_submit)"
   ]
  },
  {
   "cell_type": "code",
   "execution_count": 5,
   "metadata": {},
   "outputs": [],
   "source": [
    "def timer(start_time=None):\n",
    "    if not start_time:\n",
    "        start_time = datetime.now()\n",
    "        return start_time\n",
    "    elif start_time:\n",
    "        thour, temp_sec = divmod((datetime.now() - start_time).total_seconds(), 3600)\n",
    "        tmin, tsec = divmod(temp_sec, 60)\n",
    "        print('\\nTime taken: %i hours %i minutes and %s seconds.' % (thour, tmin, round(tsec, 2)))"
   ]
  },
  {
   "cell_type": "code",
   "execution_count": 6,
   "metadata": {},
   "outputs": [
    {
     "name": "stdout",
     "output_type": "stream",
     "text": [
      "Fitting 3 folds for each of 48 candidates, totalling 144 fits\n"
     ]
    },
    {
     "name": "stderr",
     "output_type": "stream",
     "text": [
      "[Parallel(n_jobs=4)]: Done  42 tasks      | elapsed: 19.4min\n",
      "[Parallel(n_jobs=4)]: Done 144 out of 144 | elapsed: 124.9min finished\n"
     ]
    },
    {
     "name": "stdout",
     "output_type": "stream",
     "text": [
      "\n",
      "Time taken: 2 hours 8 minutes and 9.67 seconds.\n",
      "0.7658680856819227\n",
      "{'max_depth': 22, 'num_leaves': 2514, 'scale_pos_weight': 1.6}\n"
     ]
    },
    {
     "ename": "KeyError",
     "evalue": "'colsample_bytree'",
     "output_type": "error",
     "traceback": [
      "\u001b[1;31m---------------------------------------------------------------------------\u001b[0m",
      "\u001b[1;31mKeyError\u001b[0m                                  Traceback (most recent call last)",
      "\u001b[1;32m<ipython-input-6-d2242be9412e>\u001b[0m in \u001b[0;36m<module>\u001b[1;34m()\u001b[0m\n\u001b[0;32m     38\u001b[0m \u001b[1;33m\u001b[0m\u001b[0m\n\u001b[0;32m     39\u001b[0m \u001b[1;31m# Using parameters already set above, replace in the best from the grid search\u001b[0m\u001b[1;33m\u001b[0m\u001b[1;33m\u001b[0m\u001b[0m\n\u001b[1;32m---> 40\u001b[1;33m \u001b[0mparams\u001b[0m\u001b[1;33m[\u001b[0m\u001b[1;34m'colsample_bytree'\u001b[0m\u001b[1;33m]\u001b[0m \u001b[1;33m=\u001b[0m \u001b[0mgrid\u001b[0m\u001b[1;33m.\u001b[0m\u001b[0mbest_params_\u001b[0m\u001b[1;33m[\u001b[0m\u001b[1;34m'colsample_bytree'\u001b[0m\u001b[1;33m]\u001b[0m\u001b[1;33m\u001b[0m\u001b[0m\n\u001b[0m\u001b[0;32m     41\u001b[0m \u001b[0mparams\u001b[0m\u001b[1;33m[\u001b[0m\u001b[1;34m'learning_rate'\u001b[0m\u001b[1;33m]\u001b[0m \u001b[1;33m=\u001b[0m \u001b[0mgrid\u001b[0m\u001b[1;33m.\u001b[0m\u001b[0mbest_params_\u001b[0m\u001b[1;33m[\u001b[0m\u001b[1;34m'learning_rate'\u001b[0m\u001b[1;33m]\u001b[0m\u001b[1;33m\u001b[0m\u001b[0m\n\u001b[0;32m     42\u001b[0m \u001b[0mparams\u001b[0m\u001b[1;33m[\u001b[0m\u001b[1;34m'num_leaves'\u001b[0m\u001b[1;33m]\u001b[0m \u001b[1;33m=\u001b[0m \u001b[0mgrid\u001b[0m\u001b[1;33m.\u001b[0m\u001b[0mbest_params_\u001b[0m\u001b[1;33m[\u001b[0m\u001b[1;34m'num_leaves'\u001b[0m\u001b[1;33m]\u001b[0m\u001b[1;33m\u001b[0m\u001b[0m\n",
      "\u001b[1;31mKeyError\u001b[0m: 'colsample_bytree'"
     ]
    }
   ],
   "source": [
    "# Create parameters to search\n",
    "gridParams = {\n",
    "    'num_leaves': np.arange(2014, 4014, 500),\n",
    "    'max_depth': np.arange(19,26,2),\n",
    "    'scale_pos_weight': np.arange(0.1, 2.1, 0.5),\n",
    "    \n",
    "    #'subsample': np.arange(0.4, 1, 0.1),\n",
    "    #'colsample_bytree': np.arange(0.4, 1, 0.1),\n",
    "    #'min_data_in_leaf': np.arange(1, 202, 50),\n",
    "    #'reg_alpha' : np.arange(0.5, 1.5, 0.2),\n",
    "    #'reg_lambda' : np.arange(0.5, 1.5, 0.2),\n",
    "}\n",
    "\n",
    "\n",
    "clf = LGBMClassifier(\n",
    "    learning_rate=0.02,\n",
    "    n_estimators=100,\n",
    "    n_jobs=1,\n",
    "    device='gpu',\n",
    "    silent=True,\n",
    "    random_state=42,\n",
    ")\n",
    "\n",
    "grid = GridSearchCV(\n",
    "    clf, gridParams, \n",
    "    scoring='roc_auc', \n",
    "    n_jobs=4,\n",
    "    verbose=1,\n",
    ")\n",
    "\n",
    "# Here we go! \n",
    "start_time = timer()\n",
    "grid.fit(X, Y)\n",
    "timer(start_time)\n",
    "\n",
    "print(grid.best_score_)\n",
    "print(grid.best_params_)"
   ]
  },
  {
   "cell_type": "code",
   "execution_count": 11,
   "metadata": {},
   "outputs": [
    {
     "name": "stdout",
     "output_type": "stream",
     "text": [
      "0.9080258007913724\n"
     ]
    }
   ],
   "source": [
    "from sklearn.metrics import roc_auc_score\n",
    "\n",
    "predictions = grid.predict_proba(X)\n",
    "score = roc_auc_score(Y, predictions[:, 1])\n",
    "print(score)"
   ]
  },
  {
   "cell_type": "code",
   "execution_count": 7,
   "metadata": {},
   "outputs": [],
   "source": [
    "Y_submit = np.vstack((np.arange(X_submit.shape[0]), grid.predict_proba(X_submit)[:,1])).T\n",
    "np.savetxt('Y_submit.txt', Y_submit, '%d, %.2f', header='ID,Prob1',comments='',delimiter=',')"
   ]
  },
  {
   "cell_type": "markdown",
   "metadata": {},
   "source": [
    "## Scores\n",
    "\n",
    "#### Iteration 1 of parameter tuning\n",
    "```\n",
    "gridParams = {\n",
    "    'num_leaves': np.arange(14, 6015, 1000),\n",
    "    'max_depth': np.arange(2,25,10),\n",
    "    'scale_pos_weight': np.arange(1, 10000, 1000),\n",
    "}\n",
    "\n",
    "\n",
    "clf = LGBMClassifier(\n",
    "    learning_rate=0.02,\n",
    "    n_estimators=100,\n",
    "    n_jobs=1,\n",
    "    device='gpu',\n",
    "    silent=True,\n",
    ")\n",
    "\n",
    "Time taken: 4 hours 21 minutes and 19.44 seconds.\n",
    "0.7639511706338389\n",
    "{'max_depth': 22, 'num_leaves': 3014, 'scale_pos_weight': 1}\n",
    "```\n",
    "\n",
    "#### Iteration 2 of parameter tuning\n",
    "```\n",
    "gridParams = {\n",
    "    'num_leaves': np.arange(2014, 4014, 500),\n",
    "    'max_depth': np.arange(12,27,5),\n",
    "    'scale_pos_weight': np.arange(0.1, 2.1, 0.5),\n",
    "}\n",
    "\n",
    "clf = LGBMClassifier(\n",
    "    learning_rate=0.02,\n",
    "    n_estimators=100,\n",
    "    n_jobs=1,\n",
    "    device='gpu',\n",
    "    silent=True,\n",
    ")\n",
    "\n",
    "Fitting 3 folds for each of 48 candidates, totalling 144 fits\n",
    "Time taken: 2 hours 8 minutes and 9.67 seconds.\n",
    "0.7658680856819227\n",
    "{'max_depth': 22, 'num_leaves': 2514, 'scale_pos_weight': 1.6}\n",
    "```\n"
   ]
  }
 ],
 "metadata": {
  "kernelspec": {
   "display_name": "Python 3",
   "language": "python",
   "name": "python3"
  },
  "language_info": {
   "codemirror_mode": {
    "name": "ipython",
    "version": 3
   },
   "file_extension": ".py",
   "mimetype": "text/x-python",
   "name": "python",
   "nbconvert_exporter": "python",
   "pygments_lexer": "ipython3",
   "version": "3.6.4"
  }
 },
 "nbformat": 4,
 "nbformat_minor": 2
}
